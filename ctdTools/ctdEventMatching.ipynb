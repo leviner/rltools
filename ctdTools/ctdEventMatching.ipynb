{
 "cells": [
  {
   "cell_type": "markdown",
   "metadata": {},
   "source": [
    "# Read and Match-to-Trawl CTD Data\n",
    "\n",
    "This notebook utilizes a set of functions contained in `readCtd.py` that read in CTD data from one of two forms:\n",
    "- SeaBird .cnv files produced from Seaterm : `cnv2table`\n",
    "- Post-processed QC data files produced by PMEL (contact Shaun Bell/Phyllis Stabeno for more information): `csv2table`\n",
    "\n",
    "This also requires the trawl event data. This needs to be formatted as described in `MarinovichEventData.ipynb` in the `pCod` directory, whoch contains the SQL code for pulling the headrope data in clamsbase. Everything in `readCtd.py` is formatted to use the header expected in that file.\n",
    "\n",
    "The output of these two read functions are\n",
    "- `dfCtd`: Complete dataframe by `seawater` package converted depth bins of temperature and salinity\n",
    "- `dfCtdKey`: Reference dataframe containing time and location of each cast\n",
    "\n",
    "These outputs can be paired with exports from Clams2ABL/Clamsbase2 of trawl times, locations, and headrope statistics, and used to produce a 'matched' dataframe using `eventTemps` which contains summary statistics of temperature conditions for each trawl event.\n",
    "\n",
    "### Comments on missing data from final table\n",
    "\n",
    "As of 06/11/20, the following event-cast pairs are missing one or more temperature values:\n",
    "- 2017\n",
    "    - 128: CTD shallower than average HR depth (cast 23)\n",
    "    - 689: CTD shallower than average HR depth (cast 125)\n",
    "    - 708: CTD shallower than haul (cast 128)\n",
    "    - 736: CTD Failed after 16m (cast 131)\n",
    "- 2019\n",
    "    - 157: CTD shallower than haul (cast 49)\n",
    "    - 169: CTD shallower than haul (cast 52)\n",
    "\n",
    "Below are examples of the calls for using these functions. First, we will need the readCtd functions and pandas"
   ]
  },
  {
   "cell_type": "code",
   "execution_count": 1,
   "metadata": {},
   "outputs": [],
   "source": [
    "import readCtd\n",
    "import pandas as pd"
   ]
  },
  {
   "cell_type": "markdown",
   "metadata": {},
   "source": [
    "### csv2table\n",
    "\n",
    "This function accepts either a directory or single file path, and will merge all .csv files found."
   ]
  },
  {
   "cell_type": "code",
   "execution_count": 3,
   "metadata": {},
   "outputs": [
    {
     "name": "stderr",
     "output_type": "stream",
     "text": [
      "C:\\Users\\Robert\\Anaconda3\\lib\\site-packages\\pandas\\core\\generic.py:5208: SettingWithCopyWarning: \n",
      "A value is trying to be set on a copy of a slice from a DataFrame.\n",
      "Try using .loc[row_indexer,col_indexer] = value instead\n",
      "\n",
      "See the caveats in the documentation: http://pandas.pydata.org/pandas-docs/stable/user_guide/indexing.html#returning-a-view-versus-a-copy\n",
      "  self[name] = value\n",
      "C:\\Users\\Robert\\Documents\\projects\\inProgress\\ArcticEISII\\catchProcessing\\code\\oceanography\\readCtd.py:116: RuntimeWarning: Mean of empty slice\n",
      "  dfTrawls.AVG_NET_HORI_OPENING[dfTrawls.EVENT_ID == trawl.Event_id].values[0]))]))\n",
      "C:\\Users\\Robert\\Documents\\projects\\inProgress\\ArcticEISII\\catchProcessing\\code\\oceanography\\readCtd.py:119: RuntimeWarning: Mean of empty slice\n",
      "  dfTrawls.AVG_NET_HORI_OPENING[dfTrawls.EVENT_ID == trawl.Event_id].values[0]))]))\n",
      "C:\\Users\\Robert\\Documents\\projects\\inProgress\\ArcticEISII\\catchProcessing\\code\\oceanography\\readCtd.py:120: RuntimeWarning: Mean of empty slice\n",
      "  tempBot.append(np.nanmean(curCast.temp[curCast.depth > (curCast.depth.max()-5)]))\n"
     ]
    }
   ],
   "source": [
    "dfCtd,dfCtdKey = readCtd.csv2table('D:\\AIESII\\OceanStarr_201701_AIERP\\ctd\\qc\\\\')\n",
    "dfTrawls = pd.read_csv('../pCod/AIESMarinovichEventData.csv')\n",
    "dfMatched17 = readCtd.eventTemps(dfCtd, dfCtdKey, dfTrawls[dfTrawls.SURVEY == 201701])\n",
    "dfCtd,dfCtdKey = readCtd.csv2table('D:\\AIESII\\OS201901\\ctd\\qc\\\\')\n",
    "dfTrawls = pd.read_csv('../pCod/AIESMarinovichEventData.csv')\n",
    "dfMatched19 = readCtd.eventTemps(dfCtd, dfCtdKey, dfTrawls[dfTrawls.SURVEY == 201901])\n",
    "dfMatchedAll = dfMatched17.append(dfMatched19)\n",
    "dfMatchedAll.head()\n",
    "dfMatchedAll.to_csv('TrawlEventTemperatures.csv',index=False)"
   ]
  },
  {
   "cell_type": "markdown",
   "metadata": {},
   "source": [
    "### cnv2table\n",
    "\n",
    "This function accepts either a directory or single file path, and will merge all .cnv files found. An Example is below."
   ]
  },
  {
   "cell_type": "code",
   "execution_count": 2,
   "metadata": {},
   "outputs": [
    {
     "name": "stderr",
     "output_type": "stream",
     "text": [
      "C:\\Users\\Robert\\Documents\\projects\\inProgress\\ArcticEISII\\catchProcessing\\code\\oceanography\\readCtd.py:116: RuntimeWarning: Mean of empty slice\n",
      "  dfTrawls.AVG_NET_HORI_OPENING[dfTrawls.EVENT_ID == trawl.Event_id].values[0]))]))\n",
      "C:\\Users\\Robert\\Documents\\projects\\inProgress\\ArcticEISII\\catchProcessing\\code\\oceanography\\readCtd.py:119: RuntimeWarning: Mean of empty slice\n",
      "  dfTrawls.AVG_NET_HORI_OPENING[dfTrawls.EVENT_ID == trawl.Event_id].values[0]))]))\n"
     ]
    },
    {
     "data": {
      "text/html": [
       "<div>\n",
       "<style scoped>\n",
       "    .dataframe tbody tr th:only-of-type {\n",
       "        vertical-align: middle;\n",
       "    }\n",
       "\n",
       "    .dataframe tbody tr th {\n",
       "        vertical-align: top;\n",
       "    }\n",
       "\n",
       "    .dataframe thead th {\n",
       "        text-align: right;\n",
       "    }\n",
       "</style>\n",
       "<table border=\"1\" class=\"dataframe\">\n",
       "  <thead>\n",
       "    <tr style=\"text-align: right;\">\n",
       "      <th></th>\n",
       "      <th>Event_id</th>\n",
       "      <th>ctdCast</th>\n",
       "      <th>ctdDist</th>\n",
       "      <th>tempCol</th>\n",
       "      <th>tempBot</th>\n",
       "      <th>tempSurf</th>\n",
       "      <th>tempOpen</th>\n",
       "      <th>tempRange</th>\n",
       "    </tr>\n",
       "  </thead>\n",
       "  <tbody>\n",
       "    <tr>\n",
       "      <td>0</td>\n",
       "      <td>112</td>\n",
       "      <td>42.0</td>\n",
       "      <td>18.440010</td>\n",
       "      <td>2.566525</td>\n",
       "      <td>0.561200</td>\n",
       "      <td>7.036967</td>\n",
       "      <td>0.421943</td>\n",
       "      <td>0.282080</td>\n",
       "    </tr>\n",
       "    <tr>\n",
       "      <td>1</td>\n",
       "      <td>124</td>\n",
       "      <td>43.0</td>\n",
       "      <td>1.661649</td>\n",
       "      <td>4.072509</td>\n",
       "      <td>0.652767</td>\n",
       "      <td>6.952133</td>\n",
       "      <td>0.675525</td>\n",
       "      <td>2.909647</td>\n",
       "    </tr>\n",
       "    <tr>\n",
       "      <td>2</td>\n",
       "      <td>125</td>\n",
       "      <td>44.0</td>\n",
       "      <td>4.762600</td>\n",
       "      <td>4.067790</td>\n",
       "      <td>0.548717</td>\n",
       "      <td>6.179867</td>\n",
       "      <td>0.555829</td>\n",
       "      <td>2.021080</td>\n",
       "    </tr>\n",
       "    <tr>\n",
       "      <td>3</td>\n",
       "      <td>131</td>\n",
       "      <td>45.0</td>\n",
       "      <td>17.829010</td>\n",
       "      <td>3.565437</td>\n",
       "      <td>0.459733</td>\n",
       "      <td>5.616667</td>\n",
       "      <td>0.459300</td>\n",
       "      <td>0.459500</td>\n",
       "    </tr>\n",
       "    <tr>\n",
       "      <td>4</td>\n",
       "      <td>137</td>\n",
       "      <td>45.0</td>\n",
       "      <td>11.999223</td>\n",
       "      <td>3.565437</td>\n",
       "      <td>0.459733</td>\n",
       "      <td>5.616667</td>\n",
       "      <td>0.640125</td>\n",
       "      <td>1.343700</td>\n",
       "    </tr>\n",
       "  </tbody>\n",
       "</table>\n",
       "</div>"
      ],
      "text/plain": [
       "   Event_id  ctdCast    ctdDist   tempCol   tempBot  tempSurf  tempOpen  \\\n",
       "0       112     42.0  18.440010  2.566525  0.561200  7.036967  0.421943   \n",
       "1       124     43.0   1.661649  4.072509  0.652767  6.952133  0.675525   \n",
       "2       125     44.0   4.762600  4.067790  0.548717  6.179867  0.555829   \n",
       "3       131     45.0  17.829010  3.565437  0.459733  5.616667  0.459300   \n",
       "4       137     45.0  11.999223  3.565437  0.459733  5.616667  0.640125   \n",
       "\n",
       "   tempRange  \n",
       "0   0.282080  \n",
       "1   2.909647  \n",
       "2   2.021080  \n",
       "3   0.459500  \n",
       "4   1.343700  "
      ]
     },
     "execution_count": 2,
     "metadata": {},
     "output_type": "execute_result"
    }
   ],
   "source": [
    "dfCtd,dfCtdKey = readCtd.cnv2table('D:\\AIESII\\OS201901\\ctd\\\\')\n",
    "dfTrawls = pd.read_csv('../pCod/AIESMarinovichEventData.csv')\n",
    "dfMatched19 = readCtd.eventTemps(dfCtd, dfCtdKey, dfTrawls[dfTrawls.SURVEY == 201901])\n",
    "dfMatched19.head()"
   ]
  }
 ],
 "metadata": {
  "kernelspec": {
   "display_name": "Python 3",
   "language": "python",
   "name": "python3"
  },
  "language_info": {
   "codemirror_mode": {
    "name": "ipython",
    "version": 3
   },
   "file_extension": ".py",
   "mimetype": "text/x-python",
   "name": "python",
   "nbconvert_exporter": "python",
   "pygments_lexer": "ipython3",
   "version": "3.7.4"
  }
 },
 "nbformat": 4,
 "nbformat_minor": 4
}
