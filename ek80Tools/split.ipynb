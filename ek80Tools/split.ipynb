{
 "cells": [
  {
   "cell_type": "code",
   "execution_count": 1,
   "metadata": {},
   "outputs": [],
   "source": [
    "import splitPEL"
   ]
  },
  {
   "cell_type": "code",
   "execution_count": 2,
   "metadata": {},
   "outputs": [],
   "source": [
    "class args():\n",
    "    in_dir='D:/test/'\n",
    "    out_dir=in_dir+'splitFiles/'\n",
    "    in_files=False\n",
    "    prefix=''\n",
    "    suffix=''\n",
    "    group=True\n",
    "    within_channel=False\n",
    "\n",
    "a = splitPEL.splitFiles(args)"
   ]
  },
  {
   "cell_type": "code",
   "execution_count": 8,
   "metadata": {},
   "outputs": [],
   "source": [
    "a.file = a.in_files[0]"
   ]
  },
  {
   "cell_type": "code",
   "execution_count": 9,
   "metadata": {},
   "outputs": [],
   "source": [
    "a.openFile()"
   ]
  },
  {
   "cell_type": "code",
   "execution_count": 42,
   "metadata": {},
   "outputs": [],
   "source": [
    "import numpy as np\n",
    "c = a.ek_data.get_channel_data()[a.ek_data.channel_ids[1]][0]\n",
    "c.add_data_attribute('frequency',np.array(c.get_frequency()))"
   ]
  },
  {
   "cell_type": "code",
   "execution_count": 20,
   "metadata": {},
   "outputs": [
    {
     "data": {
      "text/plain": [
       "array([34000., 34000., 34000., 34000., 34000., 34000., 34000., 34000.,\n",
       "       34000., 34000., 34000., 34000., 34000., 34000., 34000., 34000.,\n",
       "       34000., 34000., 34000., 34000., 34000., 34000., 34000., 34000.,\n",
       "       34000., 34000., 34000., 34000., 34000., 34000., 34000., 34000.,\n",
       "       34000., 34000., 34000., 34000., 34000., 34000., 34000., 34000.,\n",
       "       34000., 34000., 34000., 34000., 34000., 34000., 34000., 34000.,\n",
       "       34000., 34000., 34000., 34000., 34000., 34000., 34000., 34000.,\n",
       "       34000., 34000., 34000., 34000., 34000., 34000., 34000., 34000.,\n",
       "       34000., 34000., 34000., 34000., 34000., 34000., 34000., 34000.,\n",
       "       34000., 34000., 34000., 34000., 34000., 34000., 34000., 34000.,\n",
       "       34000., 34000., 34000., 34000., 34000., 34000., 34000., 34000.,\n",
       "       34000., 34000., 34000., 34000., 34000., 34000., 34000., 34000.,\n",
       "       34000., 34000., 34000., 34000., 34000., 34000., 34000., 34000.,\n",
       "       34000., 34000., 34000., 34000., 34000., 34000., 34000., 34000.,\n",
       "       34000., 34000., 34000., 34000., 34000., 34000., 34000., 34000.,\n",
       "       34000., 34000., 34000., 34000., 34000., 34000., 34000., 34000.,\n",
       "       34000., 34000., 34000.], dtype=float32)"
      ]
     },
     "execution_count": 20,
     "metadata": {},
     "output_type": "execute_result"
    }
   ],
   "source": [
    "a.ek_data.get_channel_data()[a.ek_data.channel_ids[1]][0].frequency_start"
   ]
  }
 ],
 "metadata": {
  "kernelspec": {
   "display_name": "base",
   "language": "python",
   "name": "python3"
  },
  "language_info": {
   "codemirror_mode": {
    "name": "ipython",
    "version": 3
   },
   "file_extension": ".py",
   "mimetype": "text/x-python",
   "name": "python",
   "nbconvert_exporter": "python",
   "pygments_lexer": "ipython3",
   "version": "3.9.13 (main, Aug 25 2022, 23:51:50) [MSC v.1916 64 bit (AMD64)]"
  },
  "orig_nbformat": 4,
  "vscode": {
   "interpreter": {
    "hash": "68290274f35ce200053a7ca6e6dc2ce83abd91e131b9ddd35e1463ad6e0f2195"
   }
  }
 },
 "nbformat": 4,
 "nbformat_minor": 2
}
