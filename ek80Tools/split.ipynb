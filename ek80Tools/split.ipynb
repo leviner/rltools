{
 "cells": [
  {
   "cell_type": "code",
   "execution_count": null,
   "metadata": {},
   "outputs": [],
   "source": [
    "import splitPEL_notqdm\n",
    "\n",
    "%load_ext autoreload\n",
    "%autoreload 2\n",
    "\n",
    "class args():\n",
    "    in_dir='D:/test/'\n",
    "    out_dir=in_dir+'splitFiles/'\n",
    "    in_files=False\n",
    "    prefix=''\n",
    "    suffix=''\n",
    "    group=False\n",
    "    within_channel=False\n",
    "    overwrite=False\n",
    "\n",
    "a = splitPEL_notqdm.splitFiles(args)"
   ]
  },
  {
   "cell_type": "code",
   "execution_count": 98,
   "metadata": {},
   "outputs": [
    {
     "name": "stdout",
     "output_type": "stream",
     "text": [
      "Input contains 5 files\n",
      "5 files unprocessed\n",
      "Writing files to: D:/test/splitFiles/\n"
     ]
    },
    {
     "name": "stderr",
     "output_type": "stream",
     "text": [
      "Processing 5 .raw files: 100%|██████████| 5/5 [05:04<00:00, 60.86s/it]"
     ]
    },
    {
     "name": "stdout",
     "output_type": "stream",
     "text": [
      "Complete\n"
     ]
    },
    {
     "name": "stderr",
     "output_type": "stream",
     "text": [
      "\n"
     ]
    }
   ],
   "source": [
    "import splitPEL\n",
    "class args():\n",
    "    in_dir='D:/test/'\n",
    "    out_dir=in_dir+'splitFiles/'\n",
    "    in_files=False\n",
    "    read_prefix=''\n",
    "    read_suffix=''\n",
    "    group=False\n",
    "    within_channel=False\n",
    "    overwrite=False\n",
    "    ignore_last=False\n",
    "\n",
    "a = splitPEL.splitFiles(args)"
   ]
  }
 ],
 "metadata": {
  "kernelspec": {
   "display_name": "base",
   "language": "python",
   "name": "python3"
  },
  "language_info": {
   "codemirror_mode": {
    "name": "ipython",
    "version": 3
   },
   "file_extension": ".py",
   "mimetype": "text/x-python",
   "name": "python",
   "nbconvert_exporter": "python",
   "pygments_lexer": "ipython3",
   "version": "3.9.13"
  },
  "orig_nbformat": 4,
  "vscode": {
   "interpreter": {
    "hash": "68290274f35ce200053a7ca6e6dc2ce83abd91e131b9ddd35e1463ad6e0f2195"
   }
  }
 },
 "nbformat": 4,
 "nbformat_minor": 2
}
