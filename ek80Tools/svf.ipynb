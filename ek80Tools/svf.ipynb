{
 "cells": [
  {
   "cell_type": "code",
   "execution_count": null,
   "metadata": {},
   "outputs": [],
   "source": [
    "# Just to get an idea of what we're looking at\n",
    "Sv = data.get_Sv(calibration=cal)\n",
    "fig_1 = figure(figsize=(10, 10))\n",
    "eg = echogram.Echogram(fig_1, Sv,threshold=[-90,-30])"
   ]
  },
  {
   "cell_type": "code",
   "execution_count": null,
   "metadata": {},
   "outputs": [],
   "source": [
    "from echolab2.processing import  grid,integration\n",
    "\n",
    "interval_length =50 \n",
    "layer_thickness = 5\n",
    "frequency_resolution = 1000 # resolution in Hz\n",
    "\n",
    "g = grid.grid(interval_length=interval_length, interval_axis='ping_number',layer_axis='range',data=Sv, layer_thickness=layer_thickness)\n",
    "i = integration.integrator(min_threshold_applied=False)"
   ]
  }
 ],
 "metadata": {
  "language_info": {
   "name": "python"
  }
 },
 "nbformat": 4,
 "nbformat_minor": 2
}
